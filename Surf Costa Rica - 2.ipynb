{
 "cells": [
  {
   "cell_type": "code",
   "execution_count": 1,
   "metadata": {},
   "outputs": [],
   "source": [
    "# Dependencies\n",
    "from bs4 import BeautifulSoup\n",
    "import requests\n",
    "from splinter import Browser\n",
    "import pymongo"
   ]
  },
  {
   "cell_type": "code",
   "execution_count": 2,
   "metadata": {},
   "outputs": [],
   "source": [
    "# URL of page to be scraped\n",
    "url = 'https://www.surfline.com/surf-reports-forecasts-cams/costa-rica/3624060'"
   ]
  },
  {
   "cell_type": "code",
   "execution_count": 3,
   "metadata": {},
   "outputs": [],
   "source": [
    "# Retrieve page with the requests module\n",
    "response = requests.get(url)"
   ]
  },
  {
   "cell_type": "code",
   "execution_count": 4,
   "metadata": {},
   "outputs": [],
   "source": [
    "# Create BeautifulSoup object; parse with 'html.parser'\n",
    "soup = BeautifulSoup(response.text, 'html.parser')"
   ]
  },
  {
   "cell_type": "code",
   "execution_count": 6,
   "metadata": {},
   "outputs": [],
   "source": [
    "# results are returned as an iterable list\n",
    "results = soup.find_all('div', class_=\"sl-spot-details\")"
   ]
  },
  {
   "cell_type": "code",
   "execution_count": 7,
   "metadata": {},
   "outputs": [
    {
     "name": "stdout",
     "output_type": "stream",
     "text": [
      "-------------\n",
      "Camaronal\n",
      "-------------\n",
      "Tamarindo\n",
      "-------------\n",
      "Samara\n",
      "-------------\n",
      "Playa Esterillos\n",
      "-------------\n",
      "Santa Teresa\n",
      "-------------\n",
      "Witches Rock\n",
      "-------------\n",
      "Mal Pais\n",
      "-------------\n",
      "Playa Hermosa North\n",
      "-------------\n",
      "Playa Hermosa\n",
      "-------------\n",
      "Dominical\n",
      "-------------\n",
      "Pavones\n",
      "-------------\n",
      "Playa Grande\n",
      "-------------\n",
      "Playa Langosta\n",
      "-------------\n",
      "Avellanas\n",
      "-------------\n",
      "Playa Negra\n",
      "-------------\n",
      "Ostional\n",
      "-------------\n",
      "Nosara\n",
      "-------------\n",
      "Guiones\n",
      "-------------\n",
      "Manuel Antonio\n",
      "-------------\n",
      "Punta Banco\n",
      "-------------\n",
      "Ollie's Point\n",
      "-------------\n",
      "Playa Escondida\n",
      "-------------\n",
      "Herradura\n",
      "-------------\n",
      "Playa Hermosa South\n",
      "-------------\n",
      "Bejuco\n",
      "-------------\n",
      "Matapalo\n",
      "-------------\n",
      "Playa Jaco\n",
      "-------------\n",
      "Westfalia\n",
      "-------------\n",
      "Cahuita\n",
      "-------------\n",
      "Salsa Brava\n",
      "-------------\n",
      "Playa Cocles\n",
      "-------------\n",
      "Caldera Jetty\n",
      "-------------\n",
      "Boca Barranca\n",
      "-------------\n",
      "Zancudo\n"
     ]
    }
   ],
   "source": [
    "name_list =[]\n",
    "for result in results:\n",
    "    # Error handling\n",
    "    try:\n",
    "        # Identify and return title of listing\n",
    "        name = result.find('h3').text\n",
    "\n",
    "        # Print results only if name is available\n",
    "        if (name):\n",
    "            print('-------------')\n",
    "            print(name)\n",
    "            name_list.append(name)\n",
    "        \n",
    "    except AttributeError as e:\n",
    "        print(e)\n"
   ]
  },
  {
   "cell_type": "code",
   "execution_count": 8,
   "metadata": {},
   "outputs": [
    {
     "data": {
      "text/plain": [
       "34"
      ]
     },
     "execution_count": 8,
     "metadata": {},
     "output_type": "execute_result"
    }
   ],
   "source": [
    "len(name_list)"
   ]
  },
  {
   "cell_type": "code",
   "execution_count": 9,
   "metadata": {},
   "outputs": [],
   "source": [
    "# results are returned as an iterable list\n",
    "results_wave = soup.find_all('span', class_=\"quiver-surf-height\")"
   ]
  },
  {
   "cell_type": "code",
   "execution_count": 10,
   "metadata": {},
   "outputs": [
    {
     "name": "stdout",
     "output_type": "stream",
     "text": [
      "-------------\n",
      "10-15FT\n",
      "-------------\n",
      "8-12FT\n",
      "-------------\n",
      "8-12FT\n",
      "-------------\n",
      "8-12FT\n",
      "-------------\n",
      "6-10FT\n",
      "-------------\n",
      "6-8FT\n",
      "-------------\n",
      "6-8FT\n",
      "-------------\n",
      "6-8FT\n",
      "-------------\n",
      "6-8FT\n",
      "-------------\n",
      "6-8FT\n",
      "-------------\n",
      "6-8FT\n",
      "-------------\n",
      "5-7FT\n",
      "-------------\n",
      "5-7FT\n",
      "-------------\n",
      "5-7FT\n",
      "-------------\n",
      "5-7FT\n",
      "-------------\n",
      "5-7FT\n",
      "-------------\n",
      "5-7FT\n",
      "-------------\n",
      "5-7FT\n",
      "-------------\n",
      "5-7FT\n",
      "-------------\n",
      "5-7FT\n",
      "-------------\n",
      "4-6FT\n",
      "-------------\n",
      "4-6FT\n",
      "-------------\n",
      "4-6FT\n",
      "-------------\n",
      "4-6FT\n",
      "-------------\n",
      "4-6FT\n",
      "-------------\n",
      "4-6FT\n",
      "-------------\n",
      "4-5FT\n",
      "-------------\n",
      "3-5FT\n",
      "-------------\n",
      "3-5FT\n",
      "-------------\n",
      "3-5FT\n",
      "-------------\n",
      "3-5FT\n",
      "-------------\n",
      "3-4FT\n",
      "-------------\n",
      "2-3FT\n",
      "-------------\n",
      "2-3FT\n"
     ]
    }
   ],
   "source": [
    "wave_list=[]\n",
    "for result in results_wave:\n",
    "    # Error handling\n",
    "    try:\n",
    "        # Identify and return title of listing\n",
    "        wave = result.text\n",
    "\n",
    "        # Print results only if name is available\n",
    "        if (wave):\n",
    "            print('-------------')\n",
    "            print(wave)\n",
    "            wave_list.append(wave)\n",
    "\n",
    "    except AttributeError as e:\n",
    "        print(e)"
   ]
  },
  {
   "cell_type": "code",
   "execution_count": 11,
   "metadata": {},
   "outputs": [
    {
     "data": {
      "text/plain": [
       "34"
      ]
     },
     "execution_count": 11,
     "metadata": {},
     "output_type": "execute_result"
    }
   ],
   "source": [
    "len(wave_list)"
   ]
  },
  {
   "cell_type": "code",
   "execution_count": 12,
   "metadata": {},
   "outputs": [],
   "source": [
    "# results are returned as an iterable list\n",
    "results_link = soup.find_all(\"a\",{\"class\":\"sl-cam-list-link\"})"
   ]
  },
  {
   "cell_type": "code",
   "execution_count": 13,
   "metadata": {},
   "outputs": [
    {
     "name": "stdout",
     "output_type": "stream",
     "text": [
      "-------------\n",
      "https://www.surfline.com/surf-report/camaronal/584204204e65fad6a7709140\n",
      "-------------\n",
      "https://www.surfline.com/surf-report/tamarindo/5842041f4e65fad6a7708b9b\n",
      "-------------\n",
      "https://www.surfline.com/surf-report/samara/584204204e65fad6a770913d\n",
      "-------------\n",
      "https://www.surfline.com/surf-report/playa-esterillos/5842041f4e65fad6a7708b4f\n",
      "-------------\n",
      "https://www.surfline.com/surf-report/santa-teresa/5842041f4e65fad6a7708e31\n",
      "-------------\n",
      "https://www.surfline.com/surf-report/witches-rock/5842041f4e65fad6a7708b99\n",
      "-------------\n",
      "https://www.surfline.com/surf-report/mal-pais/5842041f4e65fad6a7708b9a\n",
      "-------------\n",
      "https://www.surfline.com/surf-report/playa-hermosa-north/584204204e65fad6a770945e\n",
      "-------------\n",
      "https://www.surfline.com/surf-report/playa-hermosa/5842041f4e65fad6a7708b4e\n",
      "-------------\n",
      "https://www.surfline.com/surf-report/dominical/5842041f4e65fad6a7708b9c\n",
      "-------------\n",
      "https://www.surfline.com/surf-report/pavones/5842041f4e65fad6a7708ba9\n",
      "-------------\n",
      "https://www.surfline.com/surf-report/playa-grande/5842041f4e65fad6a7708c36\n",
      "-------------\n",
      "https://www.surfline.com/surf-report/playa-langosta/5842041f4e65fad6a7708c38\n",
      "-------------\n",
      "https://www.surfline.com/surf-report/avellanas/5842041f4e65fad6a7708c35\n",
      "-------------\n",
      "https://www.surfline.com/surf-report/playa-negra/584204204e65fad6a770913a\n",
      "-------------\n",
      "https://www.surfline.com/surf-report/ostional/584204204e65fad6a770913c\n",
      "-------------\n",
      "https://www.surfline.com/surf-report/nosara/584204204e65fad6a7709328\n",
      "-------------\n",
      "https://www.surfline.com/surf-report/guiones/5842041f4e65fad6a7708b4d\n",
      "-------------\n",
      "https://www.surfline.com/surf-report/manuel-antonio/5842041f4e65fad6a7708c37\n",
      "-------------\n",
      "https://www.surfline.com/surf-report/punta-banco/584204204e65fad6a770913f\n",
      "-------------\n",
      "https://www.surfline.com/surf-report/ollie-s-point/5842041f4e65fad6a7708b98\n",
      "-------------\n",
      "https://www.surfline.com/surf-report/playa-escondida/5842041f4e65fad6a7708ba3\n",
      "-------------\n",
      "https://www.surfline.com/surf-report/herradura/5842041f4e65fad6a7708ba4\n",
      "-------------\n",
      "https://www.surfline.com/surf-report/playa-hermosa-south/5842041f4e65fad6a7708b50\n",
      "-------------\n",
      "https://www.surfline.com/surf-report/bejuco/5842041f4e65fad6a7708b9d\n",
      "-------------\n",
      "https://www.surfline.com/surf-report/matapalo/5842041f4e65fad6a7708ba8\n",
      "-------------\n",
      "https://www.surfline.com/surf-report/playa-jaco/5842041f4e65fad6a7708ba1\n",
      "-------------\n",
      "https://www.surfline.com/surf-report/westfalia/584204204e65fad6a7709143\n",
      "-------------\n",
      "https://www.surfline.com/surf-report/cahuita/5842041f4e65fad6a7708c33\n",
      "-------------\n",
      "https://www.surfline.com/surf-report/salsa-brava/5842041f4e65fad6a7708ba7\n",
      "-------------\n",
      "https://www.surfline.com/surf-report/playa-cocles/584204204e65fad6a7709142\n",
      "-------------\n",
      "https://www.surfline.com/surf-report/caldera-jetty/5842041f4e65fad6a7708ba6\n",
      "-------------\n",
      "https://www.surfline.com/surf-report/boca-barranca/5842041f4e65fad6a7708ba5\n",
      "-------------\n",
      "https://www.surfline.com/surf-report/zancudo/584204204e65fad6a770913e\n"
     ]
    }
   ],
   "source": [
    "link_list = []\n",
    "\n",
    "for result in results_link:\n",
    "    # Error handling\n",
    "    \n",
    "    try:\n",
    "        # Print results only if name is available\n",
    "        if (result):\n",
    "            print('-------------')\n",
    "            print(\"https://www.surfline.com\"+result['href'])\n",
    "            link_list.append(\"https://www.surfline.com\"+result['href'])\n",
    "\n",
    "    except AttributeError as e:\n",
    "        print(e)"
   ]
  },
  {
   "cell_type": "code",
   "execution_count": 14,
   "metadata": {},
   "outputs": [
    {
     "data": {
      "text/plain": [
       "['https://www.surfline.com/surf-report/camaronal/584204204e65fad6a7709140',\n",
       " 'https://www.surfline.com/surf-report/tamarindo/5842041f4e65fad6a7708b9b',\n",
       " 'https://www.surfline.com/surf-report/samara/584204204e65fad6a770913d',\n",
       " 'https://www.surfline.com/surf-report/playa-esterillos/5842041f4e65fad6a7708b4f',\n",
       " 'https://www.surfline.com/surf-report/santa-teresa/5842041f4e65fad6a7708e31',\n",
       " 'https://www.surfline.com/surf-report/witches-rock/5842041f4e65fad6a7708b99',\n",
       " 'https://www.surfline.com/surf-report/mal-pais/5842041f4e65fad6a7708b9a',\n",
       " 'https://www.surfline.com/surf-report/playa-hermosa-north/584204204e65fad6a770945e',\n",
       " 'https://www.surfline.com/surf-report/playa-hermosa/5842041f4e65fad6a7708b4e',\n",
       " 'https://www.surfline.com/surf-report/dominical/5842041f4e65fad6a7708b9c',\n",
       " 'https://www.surfline.com/surf-report/pavones/5842041f4e65fad6a7708ba9',\n",
       " 'https://www.surfline.com/surf-report/playa-grande/5842041f4e65fad6a7708c36',\n",
       " 'https://www.surfline.com/surf-report/playa-langosta/5842041f4e65fad6a7708c38',\n",
       " 'https://www.surfline.com/surf-report/avellanas/5842041f4e65fad6a7708c35',\n",
       " 'https://www.surfline.com/surf-report/playa-negra/584204204e65fad6a770913a',\n",
       " 'https://www.surfline.com/surf-report/ostional/584204204e65fad6a770913c',\n",
       " 'https://www.surfline.com/surf-report/nosara/584204204e65fad6a7709328',\n",
       " 'https://www.surfline.com/surf-report/guiones/5842041f4e65fad6a7708b4d',\n",
       " 'https://www.surfline.com/surf-report/manuel-antonio/5842041f4e65fad6a7708c37',\n",
       " 'https://www.surfline.com/surf-report/punta-banco/584204204e65fad6a770913f',\n",
       " 'https://www.surfline.com/surf-report/ollie-s-point/5842041f4e65fad6a7708b98',\n",
       " 'https://www.surfline.com/surf-report/playa-escondida/5842041f4e65fad6a7708ba3',\n",
       " 'https://www.surfline.com/surf-report/herradura/5842041f4e65fad6a7708ba4',\n",
       " 'https://www.surfline.com/surf-report/playa-hermosa-south/5842041f4e65fad6a7708b50',\n",
       " 'https://www.surfline.com/surf-report/bejuco/5842041f4e65fad6a7708b9d',\n",
       " 'https://www.surfline.com/surf-report/matapalo/5842041f4e65fad6a7708ba8',\n",
       " 'https://www.surfline.com/surf-report/playa-jaco/5842041f4e65fad6a7708ba1',\n",
       " 'https://www.surfline.com/surf-report/westfalia/584204204e65fad6a7709143',\n",
       " 'https://www.surfline.com/surf-report/cahuita/5842041f4e65fad6a7708c33',\n",
       " 'https://www.surfline.com/surf-report/salsa-brava/5842041f4e65fad6a7708ba7',\n",
       " 'https://www.surfline.com/surf-report/playa-cocles/584204204e65fad6a7709142',\n",
       " 'https://www.surfline.com/surf-report/caldera-jetty/5842041f4e65fad6a7708ba6',\n",
       " 'https://www.surfline.com/surf-report/boca-barranca/5842041f4e65fad6a7708ba5',\n",
       " 'https://www.surfline.com/surf-report/zancudo/584204204e65fad6a770913e']"
      ]
     },
     "execution_count": 14,
     "metadata": {},
     "output_type": "execute_result"
    }
   ],
   "source": [
    "link_list"
   ]
  },
  {
   "cell_type": "code",
   "execution_count": 15,
   "metadata": {},
   "outputs": [],
   "source": [
    "# URL of page to be scraped\n",
    "\n",
    "water_temp_list = []\n",
    "air_temp_list = []\n",
    "\n",
    "for link in link_list:\n",
    "    response = requests.get(link)\n",
    "    soup2 = BeautifulSoup(response.text, 'html.parser')\n",
    "    results_water_temp = soup2.find_all('div', {\"sl-wetsuit-recommender__weather\"})\n",
    "    for result in results_water_temp:\n",
    "        water_temp = result.text\n",
    "        try:\n",
    "            # Print results only if name is available\n",
    "            if (water_temp):\n",
    "                water_temp_list.append(water_temp.split(\"F\")[0] + \"F\")\n",
    "                air_temp_list.append(water_temp.split(\"F\")[1] + \"F\")\n",
    "        except AttributeError as e:\n",
    "            print(e)\n",
    "\n"
   ]
  },
  {
   "cell_type": "code",
   "execution_count": 16,
   "metadata": {},
   "outputs": [
    {
     "data": {
      "text/plain": [
       "['84 - 86 ºF',\n",
       " '84 - 86 ºF',\n",
       " '84 - 86 ºF',\n",
       " '84 - 86 ºF',\n",
       " '84 - 86 ºF',\n",
       " '84 - 86 ºF',\n",
       " '84 - 86 ºF',\n",
       " '84 - 86 ºF',\n",
       " '84 - 86 ºF',\n",
       " '84 - 86 ºF',\n",
       " '84 - 86 ºF',\n",
       " '84 - 86 ºF',\n",
       " '84 - 86 ºF',\n",
       " '84 - 86 ºF',\n",
       " '84 - 86 ºF',\n",
       " '84 - 86 ºF',\n",
       " '84 - 86 ºF',\n",
       " '84 - 86 ºF',\n",
       " '75 - 77 ºF',\n",
       " '84 - 86 ºF',\n",
       " '84 - 86 ºF',\n",
       " '84 - 86 ºF',\n",
       " '84 - 86 ºF',\n",
       " '84 - 86 ºF',\n",
       " '84 - 86 ºF',\n",
       " '84 - 86 ºF',\n",
       " '84 - 86 ºF',\n",
       " '84 - 86 ºF',\n",
       " '84 - 86 ºF',\n",
       " '84 - 86 ºF',\n",
       " '84 - 86 ºF',\n",
       " '84 - 86 ºF',\n",
       " '84 - 86 ºF',\n",
       " '84 - 86 ºF']"
      ]
     },
     "execution_count": 16,
     "metadata": {},
     "output_type": "execute_result"
    }
   ],
   "source": [
    "water_temp_list"
   ]
  },
  {
   "cell_type": "code",
   "execution_count": 17,
   "metadata": {},
   "outputs": [
    {
     "data": {
      "text/plain": [
       "['78 ºF',\n",
       " '79 ºF',\n",
       " '78 ºF',\n",
       " '77 ºF',\n",
       " '80 ºF',\n",
       " '78 ºF',\n",
       " '80 ºF',\n",
       " '78 ºF',\n",
       " '78 ºF',\n",
       " '76 ºF',\n",
       " '76 ºF',\n",
       " '79 ºF',\n",
       " '79 ºF',\n",
       " '79 ºF',\n",
       " '79 ºF',\n",
       " '79 ºF',\n",
       " '79 ºF',\n",
       " '78 ºF',\n",
       " '77 ºF',\n",
       " '77 ºF',\n",
       " '80 ºF',\n",
       " '78 ºF',\n",
       " '78 ºF',\n",
       " '78 ºF',\n",
       " '78 ºF',\n",
       " '78 ºF',\n",
       " '78 ºF',\n",
       " '79 ºF',\n",
       " '78 ºF',\n",
       " '78 ºF',\n",
       " '78 ºF',\n",
       " '77 ºF',\n",
       " '77 ºF',\n",
       " '75 ºF']"
      ]
     },
     "execution_count": 17,
     "metadata": {},
     "output_type": "execute_result"
    }
   ],
   "source": [
    "air_temp_list"
   ]
  },
  {
   "cell_type": "code",
   "execution_count": 18,
   "metadata": {},
   "outputs": [],
   "source": [
    "# Initialize PyMongo to work with MongoDBs\n",
    "conn = 'mongodb://localhost:27017'\n",
    "client = pymongo.MongoClient(conn)"
   ]
  },
  {
   "cell_type": "code",
   "execution_count": 19,
   "metadata": {},
   "outputs": [],
   "source": [
    "# Define database and collection\n",
    "db = client.costa_rica_db\n",
    "surf_summary = db.items"
   ]
  },
  {
   "cell_type": "code",
   "execution_count": 20,
   "metadata": {},
   "outputs": [],
   "source": [
    "for i in range (0, len(name_list)):\n",
    "    post = {'City': name_list[i],\n",
    "        'Wave_Height': wave_list[i],\n",
    "        'Water_Temperature': water_temp_list[i],\n",
    "        'Air_Temperature': air_temp_list[i],\n",
    "        'Link':link_list[i]\n",
    "       }\n",
    "    surf_summary.insert_one(post)"
   ]
  },
  {
   "cell_type": "code",
   "execution_count": 21,
   "metadata": {},
   "outputs": [],
   "source": [
    "city = db.items.find()"
   ]
  },
  {
   "cell_type": "code",
   "execution_count": 22,
   "metadata": {},
   "outputs": [
    {
     "name": "stdout",
     "output_type": "stream",
     "text": [
      "{'_id': ObjectId('5b05065168544a04c0ffdcaf'), 'City': 'Camaronal', 'Wave_Height': '10-15FT', 'Water_Temperature': '84 - 86 ºF', 'Air_Temperature': '78 ºF', 'Link': 'https://www.surfline.com/surf-report/camaronal/584204204e65fad6a7709140'}\n",
      "dict_keys(['_id', 'City', 'Wave_Height', 'Water_Temperature', 'Air_Temperature', 'Link'])\n",
      "{'_id': ObjectId('5b05065168544a04c0ffdcb0'), 'City': 'Tamarindo', 'Wave_Height': '8-12FT', 'Water_Temperature': '84 - 86 ºF', 'Air_Temperature': '79 ºF', 'Link': 'https://www.surfline.com/surf-report/tamarindo/5842041f4e65fad6a7708b9b'}\n",
      "dict_keys(['_id', 'City', 'Wave_Height', 'Water_Temperature', 'Air_Temperature', 'Link'])\n",
      "{'_id': ObjectId('5b05065168544a04c0ffdcb1'), 'City': 'Samara', 'Wave_Height': '8-12FT', 'Water_Temperature': '84 - 86 ºF', 'Air_Temperature': '78 ºF', 'Link': 'https://www.surfline.com/surf-report/samara/584204204e65fad6a770913d'}\n",
      "dict_keys(['_id', 'City', 'Wave_Height', 'Water_Temperature', 'Air_Temperature', 'Link'])\n",
      "{'_id': ObjectId('5b05065168544a04c0ffdcb2'), 'City': 'Playa Esterillos', 'Wave_Height': '8-12FT', 'Water_Temperature': '84 - 86 ºF', 'Air_Temperature': '77 ºF', 'Link': 'https://www.surfline.com/surf-report/playa-esterillos/5842041f4e65fad6a7708b4f'}\n",
      "dict_keys(['_id', 'City', 'Wave_Height', 'Water_Temperature', 'Air_Temperature', 'Link'])\n",
      "{'_id': ObjectId('5b05065168544a04c0ffdcb3'), 'City': 'Santa Teresa', 'Wave_Height': '6-10FT', 'Water_Temperature': '84 - 86 ºF', 'Air_Temperature': '80 ºF', 'Link': 'https://www.surfline.com/surf-report/santa-teresa/5842041f4e65fad6a7708e31'}\n",
      "dict_keys(['_id', 'City', 'Wave_Height', 'Water_Temperature', 'Air_Temperature', 'Link'])\n",
      "{'_id': ObjectId('5b05065168544a04c0ffdcb4'), 'City': 'Witches Rock', 'Wave_Height': '6-8FT', 'Water_Temperature': '84 - 86 ºF', 'Air_Temperature': '78 ºF', 'Link': 'https://www.surfline.com/surf-report/witches-rock/5842041f4e65fad6a7708b99'}\n",
      "dict_keys(['_id', 'City', 'Wave_Height', 'Water_Temperature', 'Air_Temperature', 'Link'])\n",
      "{'_id': ObjectId('5b05065168544a04c0ffdcb5'), 'City': 'Mal Pais', 'Wave_Height': '6-8FT', 'Water_Temperature': '84 - 86 ºF', 'Air_Temperature': '80 ºF', 'Link': 'https://www.surfline.com/surf-report/mal-pais/5842041f4e65fad6a7708b9a'}\n",
      "dict_keys(['_id', 'City', 'Wave_Height', 'Water_Temperature', 'Air_Temperature', 'Link'])\n",
      "{'_id': ObjectId('5b05065168544a04c0ffdcb6'), 'City': 'Playa Hermosa North', 'Wave_Height': '6-8FT', 'Water_Temperature': '84 - 86 ºF', 'Air_Temperature': '78 ºF', 'Link': 'https://www.surfline.com/surf-report/playa-hermosa-north/584204204e65fad6a770945e'}\n",
      "dict_keys(['_id', 'City', 'Wave_Height', 'Water_Temperature', 'Air_Temperature', 'Link'])\n",
      "{'_id': ObjectId('5b05065168544a04c0ffdcb7'), 'City': 'Playa Hermosa', 'Wave_Height': '6-8FT', 'Water_Temperature': '84 - 86 ºF', 'Air_Temperature': '78 ºF', 'Link': 'https://www.surfline.com/surf-report/playa-hermosa/5842041f4e65fad6a7708b4e'}\n",
      "dict_keys(['_id', 'City', 'Wave_Height', 'Water_Temperature', 'Air_Temperature', 'Link'])\n",
      "{'_id': ObjectId('5b05065168544a04c0ffdcb8'), 'City': 'Dominical', 'Wave_Height': '6-8FT', 'Water_Temperature': '84 - 86 ºF', 'Air_Temperature': '76 ºF', 'Link': 'https://www.surfline.com/surf-report/dominical/5842041f4e65fad6a7708b9c'}\n",
      "dict_keys(['_id', 'City', 'Wave_Height', 'Water_Temperature', 'Air_Temperature', 'Link'])\n",
      "{'_id': ObjectId('5b05065168544a04c0ffdcb9'), 'City': 'Pavones', 'Wave_Height': '6-8FT', 'Water_Temperature': '84 - 86 ºF', 'Air_Temperature': '76 ºF', 'Link': 'https://www.surfline.com/surf-report/pavones/5842041f4e65fad6a7708ba9'}\n",
      "dict_keys(['_id', 'City', 'Wave_Height', 'Water_Temperature', 'Air_Temperature', 'Link'])\n",
      "{'_id': ObjectId('5b05065168544a04c0ffdcba'), 'City': 'Playa Grande', 'Wave_Height': '5-7FT', 'Water_Temperature': '84 - 86 ºF', 'Air_Temperature': '79 ºF', 'Link': 'https://www.surfline.com/surf-report/playa-grande/5842041f4e65fad6a7708c36'}\n",
      "dict_keys(['_id', 'City', 'Wave_Height', 'Water_Temperature', 'Air_Temperature', 'Link'])\n",
      "{'_id': ObjectId('5b05065168544a04c0ffdcbb'), 'City': 'Playa Langosta', 'Wave_Height': '5-7FT', 'Water_Temperature': '84 - 86 ºF', 'Air_Temperature': '79 ºF', 'Link': 'https://www.surfline.com/surf-report/playa-langosta/5842041f4e65fad6a7708c38'}\n",
      "dict_keys(['_id', 'City', 'Wave_Height', 'Water_Temperature', 'Air_Temperature', 'Link'])\n",
      "{'_id': ObjectId('5b05065168544a04c0ffdcbc'), 'City': 'Avellanas', 'Wave_Height': '5-7FT', 'Water_Temperature': '84 - 86 ºF', 'Air_Temperature': '79 ºF', 'Link': 'https://www.surfline.com/surf-report/avellanas/5842041f4e65fad6a7708c35'}\n",
      "dict_keys(['_id', 'City', 'Wave_Height', 'Water_Temperature', 'Air_Temperature', 'Link'])\n",
      "{'_id': ObjectId('5b05065168544a04c0ffdcbd'), 'City': 'Playa Negra', 'Wave_Height': '5-7FT', 'Water_Temperature': '84 - 86 ºF', 'Air_Temperature': '79 ºF', 'Link': 'https://www.surfline.com/surf-report/playa-negra/584204204e65fad6a770913a'}\n",
      "dict_keys(['_id', 'City', 'Wave_Height', 'Water_Temperature', 'Air_Temperature', 'Link'])\n",
      "{'_id': ObjectId('5b05065168544a04c0ffdcbe'), 'City': 'Ostional', 'Wave_Height': '5-7FT', 'Water_Temperature': '84 - 86 ºF', 'Air_Temperature': '79 ºF', 'Link': 'https://www.surfline.com/surf-report/ostional/584204204e65fad6a770913c'}\n",
      "dict_keys(['_id', 'City', 'Wave_Height', 'Water_Temperature', 'Air_Temperature', 'Link'])\n",
      "{'_id': ObjectId('5b05065168544a04c0ffdcbf'), 'City': 'Nosara', 'Wave_Height': '5-7FT', 'Water_Temperature': '84 - 86 ºF', 'Air_Temperature': '79 ºF', 'Link': 'https://www.surfline.com/surf-report/nosara/584204204e65fad6a7709328'}\n",
      "dict_keys(['_id', 'City', 'Wave_Height', 'Water_Temperature', 'Air_Temperature', 'Link'])\n",
      "{'_id': ObjectId('5b05065168544a04c0ffdcc0'), 'City': 'Guiones', 'Wave_Height': '5-7FT', 'Water_Temperature': '84 - 86 ºF', 'Air_Temperature': '78 ºF', 'Link': 'https://www.surfline.com/surf-report/guiones/5842041f4e65fad6a7708b4d'}\n",
      "dict_keys(['_id', 'City', 'Wave_Height', 'Water_Temperature', 'Air_Temperature', 'Link'])\n",
      "{'_id': ObjectId('5b05065168544a04c0ffdcc1'), 'City': 'Manuel Antonio', 'Wave_Height': '5-7FT', 'Water_Temperature': '75 - 77 ºF', 'Air_Temperature': '77 ºF', 'Link': 'https://www.surfline.com/surf-report/manuel-antonio/5842041f4e65fad6a7708c37'}\n",
      "dict_keys(['_id', 'City', 'Wave_Height', 'Water_Temperature', 'Air_Temperature', 'Link'])\n",
      "{'_id': ObjectId('5b05065168544a04c0ffdcc2'), 'City': 'Punta Banco', 'Wave_Height': '5-7FT', 'Water_Temperature': '84 - 86 ºF', 'Air_Temperature': '77 ºF', 'Link': 'https://www.surfline.com/surf-report/punta-banco/584204204e65fad6a770913f'}\n",
      "dict_keys(['_id', 'City', 'Wave_Height', 'Water_Temperature', 'Air_Temperature', 'Link'])\n",
      "{'_id': ObjectId('5b05065168544a04c0ffdcc3'), 'City': \"Ollie's Point\", 'Wave_Height': '4-6FT', 'Water_Temperature': '84 - 86 ºF', 'Air_Temperature': '80 ºF', 'Link': 'https://www.surfline.com/surf-report/ollie-s-point/5842041f4e65fad6a7708b98'}\n",
      "dict_keys(['_id', 'City', 'Wave_Height', 'Water_Temperature', 'Air_Temperature', 'Link'])\n",
      "{'_id': ObjectId('5b05065168544a04c0ffdcc4'), 'City': 'Playa Escondida', 'Wave_Height': '4-6FT', 'Water_Temperature': '84 - 86 ºF', 'Air_Temperature': '78 ºF', 'Link': 'https://www.surfline.com/surf-report/playa-escondida/5842041f4e65fad6a7708ba3'}\n",
      "dict_keys(['_id', 'City', 'Wave_Height', 'Water_Temperature', 'Air_Temperature', 'Link'])\n",
      "{'_id': ObjectId('5b05065168544a04c0ffdcc5'), 'City': 'Herradura', 'Wave_Height': '4-6FT', 'Water_Temperature': '84 - 86 ºF', 'Air_Temperature': '78 ºF', 'Link': 'https://www.surfline.com/surf-report/herradura/5842041f4e65fad6a7708ba4'}\n",
      "dict_keys(['_id', 'City', 'Wave_Height', 'Water_Temperature', 'Air_Temperature', 'Link'])\n",
      "{'_id': ObjectId('5b05065168544a04c0ffdcc6'), 'City': 'Playa Hermosa South', 'Wave_Height': '4-6FT', 'Water_Temperature': '84 - 86 ºF', 'Air_Temperature': '78 ºF', 'Link': 'https://www.surfline.com/surf-report/playa-hermosa-south/5842041f4e65fad6a7708b50'}\n",
      "dict_keys(['_id', 'City', 'Wave_Height', 'Water_Temperature', 'Air_Temperature', 'Link'])\n",
      "{'_id': ObjectId('5b05065168544a04c0ffdcc7'), 'City': 'Bejuco', 'Wave_Height': '4-6FT', 'Water_Temperature': '84 - 86 ºF', 'Air_Temperature': '78 ºF', 'Link': 'https://www.surfline.com/surf-report/bejuco/5842041f4e65fad6a7708b9d'}\n",
      "dict_keys(['_id', 'City', 'Wave_Height', 'Water_Temperature', 'Air_Temperature', 'Link'])\n",
      "{'_id': ObjectId('5b05065168544a04c0ffdcc8'), 'City': 'Matapalo', 'Wave_Height': '4-6FT', 'Water_Temperature': '84 - 86 ºF', 'Air_Temperature': '78 ºF', 'Link': 'https://www.surfline.com/surf-report/matapalo/5842041f4e65fad6a7708ba8'}\n",
      "dict_keys(['_id', 'City', 'Wave_Height', 'Water_Temperature', 'Air_Temperature', 'Link'])\n",
      "{'_id': ObjectId('5b05065168544a04c0ffdcc9'), 'City': 'Playa Jaco', 'Wave_Height': '4-5FT', 'Water_Temperature': '84 - 86 ºF', 'Air_Temperature': '78 ºF', 'Link': 'https://www.surfline.com/surf-report/playa-jaco/5842041f4e65fad6a7708ba1'}\n",
      "dict_keys(['_id', 'City', 'Wave_Height', 'Water_Temperature', 'Air_Temperature', 'Link'])\n",
      "{'_id': ObjectId('5b05065168544a04c0ffdcca'), 'City': 'Westfalia', 'Wave_Height': '3-5FT', 'Water_Temperature': '84 - 86 ºF', 'Air_Temperature': '79 ºF', 'Link': 'https://www.surfline.com/surf-report/westfalia/584204204e65fad6a7709143'}\n",
      "dict_keys(['_id', 'City', 'Wave_Height', 'Water_Temperature', 'Air_Temperature', 'Link'])\n",
      "{'_id': ObjectId('5b05065168544a04c0ffdccb'), 'City': 'Cahuita', 'Wave_Height': '3-5FT', 'Water_Temperature': '84 - 86 ºF', 'Air_Temperature': '78 ºF', 'Link': 'https://www.surfline.com/surf-report/cahuita/5842041f4e65fad6a7708c33'}\n",
      "dict_keys(['_id', 'City', 'Wave_Height', 'Water_Temperature', 'Air_Temperature', 'Link'])\n",
      "{'_id': ObjectId('5b05065168544a04c0ffdccc'), 'City': 'Salsa Brava', 'Wave_Height': '3-5FT', 'Water_Temperature': '84 - 86 ºF', 'Air_Temperature': '78 ºF', 'Link': 'https://www.surfline.com/surf-report/salsa-brava/5842041f4e65fad6a7708ba7'}\n",
      "dict_keys(['_id', 'City', 'Wave_Height', 'Water_Temperature', 'Air_Temperature', 'Link'])\n",
      "{'_id': ObjectId('5b05065168544a04c0ffdccd'), 'City': 'Playa Cocles', 'Wave_Height': '3-5FT', 'Water_Temperature': '84 - 86 ºF', 'Air_Temperature': '78 ºF', 'Link': 'https://www.surfline.com/surf-report/playa-cocles/584204204e65fad6a7709142'}\n",
      "dict_keys(['_id', 'City', 'Wave_Height', 'Water_Temperature', 'Air_Temperature', 'Link'])\n",
      "{'_id': ObjectId('5b05065168544a04c0ffdcce'), 'City': 'Caldera Jetty', 'Wave_Height': '3-4FT', 'Water_Temperature': '84 - 86 ºF', 'Air_Temperature': '77 ºF', 'Link': 'https://www.surfline.com/surf-report/caldera-jetty/5842041f4e65fad6a7708ba6'}\n",
      "dict_keys(['_id', 'City', 'Wave_Height', 'Water_Temperature', 'Air_Temperature', 'Link'])\n",
      "{'_id': ObjectId('5b05065168544a04c0ffdccf'), 'City': 'Boca Barranca', 'Wave_Height': '2-3FT', 'Water_Temperature': '84 - 86 ºF', 'Air_Temperature': '77 ºF', 'Link': 'https://www.surfline.com/surf-report/boca-barranca/5842041f4e65fad6a7708ba5'}\n",
      "dict_keys(['_id', 'City', 'Wave_Height', 'Water_Temperature', 'Air_Temperature', 'Link'])\n",
      "{'_id': ObjectId('5b05065168544a04c0ffdcd0'), 'City': 'Zancudo', 'Wave_Height': '2-3FT', 'Water_Temperature': '84 - 86 ºF', 'Air_Temperature': '75 ºF', 'Link': 'https://www.surfline.com/surf-report/zancudo/584204204e65fad6a770913e'}\n",
      "dict_keys(['_id', 'City', 'Wave_Height', 'Water_Temperature', 'Air_Temperature', 'Link'])\n"
     ]
    }
   ],
   "source": [
    "for blah in city:\n",
    "    print(blah)\n",
    "    print(blah.keys())"
   ]
  },
  {
   "cell_type": "code",
   "execution_count": null,
   "metadata": {},
   "outputs": [],
   "source": []
  }
 ],
 "metadata": {
  "kernelspec": {
   "display_name": "Python 3",
   "language": "python",
   "name": "python3"
  },
  "language_info": {
   "codemirror_mode": {
    "name": "ipython",
    "version": 3
   },
   "file_extension": ".py",
   "mimetype": "text/x-python",
   "name": "python",
   "nbconvert_exporter": "python",
   "pygments_lexer": "ipython3",
   "version": "3.6.4"
  }
 },
 "nbformat": 4,
 "nbformat_minor": 2
}
